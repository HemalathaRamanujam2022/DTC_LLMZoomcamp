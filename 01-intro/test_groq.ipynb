{
 "cells": [
  {
   "cell_type": "code",
   "execution_count": 1,
   "id": "92005a98-7fe0-4c8a-b42a-9415bc467ace",
   "metadata": {},
   "outputs": [],
   "source": [
    "import requests\n",
    "import os"
   ]
  },
  {
   "cell_type": "code",
   "execution_count": 2,
   "id": "8f74b0d5-a448-460a-94f3-14b4e26f30a2",
   "metadata": {},
   "outputs": [
    {
     "data": {
      "text/plain": [
       "environ{'SHELL': '/bin/bash',\n",
       "        'WSL2_GUI_APPS_ENABLED': '1',\n",
       "        'WSL_DISTRO_NAME': 'Ubuntu2004',\n",
       "        'JAVA_HOME': '/home/ubuntu/spark/jdk-11.0.2',\n",
       "        'NAME': 'Hema',\n",
       "        'PWD': '/home/ubuntu/DTC_LLMZoomcamp/01-intro',\n",
       "        'LOGNAME': 'ubuntu',\n",
       "        'MOTD_SHOWN': 'update-motd',\n",
       "        'HOME': '/home/ubuntu',\n",
       "        'LANG': 'C.UTF-8',\n",
       "        'WSL_INTEROP': '/run/WSL/356_interop',\n",
       "        'LS_COLORS': 'rs=0:di=01;34:ln=01;36:mh=00:pi=40;33:so=01;35:do=01;35:bd=40;33;01:cd=40;33;01:or=40;31;01:mi=00:su=37;41:sg=30;43:ca=30;41:tw=30;42:ow=34;42:st=37;44:ex=01;32:*.tar=01;31:*.tgz=01;31:*.arc=01;31:*.arj=01;31:*.taz=01;31:*.lha=01;31:*.lz4=01;31:*.lzh=01;31:*.lzma=01;31:*.tlz=01;31:*.txz=01;31:*.tzo=01;31:*.t7z=01;31:*.zip=01;31:*.z=01;31:*.dz=01;31:*.gz=01;31:*.lrz=01;31:*.lz=01;31:*.lzo=01;31:*.xz=01;31:*.zst=01;31:*.tzst=01;31:*.bz2=01;31:*.bz=01;31:*.tbz=01;31:*.tbz2=01;31:*.tz=01;31:*.deb=01;31:*.rpm=01;31:*.jar=01;31:*.war=01;31:*.ear=01;31:*.sar=01;31:*.rar=01;31:*.alz=01;31:*.ace=01;31:*.zoo=01;31:*.cpio=01;31:*.7z=01;31:*.rz=01;31:*.cab=01;31:*.wim=01;31:*.swm=01;31:*.dwm=01;31:*.esd=01;31:*.jpg=01;35:*.jpeg=01;35:*.mjpg=01;35:*.mjpeg=01;35:*.gif=01;35:*.bmp=01;35:*.pbm=01;35:*.pgm=01;35:*.ppm=01;35:*.tga=01;35:*.xbm=01;35:*.xpm=01;35:*.tif=01;35:*.tiff=01;35:*.png=01;35:*.svg=01;35:*.svgz=01;35:*.mng=01;35:*.pcx=01;35:*.mov=01;35:*.mpg=01;35:*.mpeg=01;35:*.m2v=01;35:*.mkv=01;35:*.webm=01;35:*.webp=01;35:*.ogm=01;35:*.mp4=01;35:*.m4v=01;35:*.mp4v=01;35:*.vob=01;35:*.qt=01;35:*.nuv=01;35:*.wmv=01;35:*.asf=01;35:*.rm=01;35:*.rmvb=01;35:*.flc=01;35:*.avi=01;35:*.fli=01;35:*.flv=01;35:*.gl=01;35:*.dl=01;35:*.xcf=01;35:*.xwd=01;35:*.yuv=01;35:*.cgm=01;35:*.emf=01;35:*.ogv=01;35:*.ogx=01;35:*.aac=00;36:*.au=00;36:*.flac=00;36:*.m4a=00;36:*.mid=00;36:*.midi=00;36:*.mka=00;36:*.mp3=00;36:*.mpc=00;36:*.ogg=00;36:*.ra=00;36:*.wav=00;36:*.oga=00;36:*.opus=00;36:*.spx=00;36:*.xspf=00;36:',\n",
       "        'WAYLAND_DISPLAY': 'wayland-0',\n",
       "        'LESSCLOSE': '/usr/bin/lesspipe %s %s',\n",
       "        'PYTHONPATH': '/home/ubuntu/spark/spark-3.3.2-bin-hadoop3/python/lib/py4j-0.10.9.5-src.zip:/home/ubuntu/spark/spark-3.3.2-bin-hadoop3/python/:',\n",
       "        'TERM': 'xterm-color',\n",
       "        'LESSOPEN': '| /usr/bin/lesspipe %s',\n",
       "        'USER': 'ubuntu',\n",
       "        'DISPLAY': ':0',\n",
       "        'SHLVL': '1',\n",
       "        'SPARK_HOME': '/home/ubuntu/spark/spark-3.3.2-bin-hadoop3',\n",
       "        'PROMPT_DIRTRIM': '1',\n",
       "        'GROQ_API_KEY': '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',\n",
       "        'XDG_RUNTIME_DIR': '/run/user/1000/',\n",
       "        'WSLENV': '',\n",
       "        'XDG_DATA_DIRS': '/usr/local/share:/usr/share:/var/lib/snapd/desktop',\n",
       "        'PATH': '/home/ubuntu/.local/bin:/home/ubuntu/google-cloud-sdk/bin:/home/ubuntu/spark/spark-3.3.2-bin-hadoop3/bin:/home/ubuntu/spark/jdk-11.0.2/bin:/usr/local/sbin:/usr/local/bin:/usr/sbin:/usr/bin:/sbin:/bin:/usr/games:/usr/local/games:/usr/lib/wsl/lib:/mnt/c/Windows/system32:/mnt/c/Windows:/mnt/c/Windows/System32/Wbem:/mnt/c/Windows/System32/WindowsPowerShell/v1.0/:/mnt/c/Windows/System32/OpenSSH/:/mnt/c/Users/HEMA S/AppData/Local/Programs/Python/Python311/:/mnt/c/Users/HEMA S/AppData/Local/Programs/Python/Python311/Scripts/:/mnt/c/Program Files/Microsoft SQL Server/150/Tools/Binn/:/mnt/c/Program Files/Microsoft SQL Server/Client SDK/ODBC/170/Tools/Binn/:/mnt/c/Program Files/dotnet/:/mnt/c/Program Files/PuTTY/:/mnt/c/Program Files/Git/cmd:/mnt/c/Program Files/Docker/Docker/resources/bin:/mnt/c/Software/Terraform:/mnt/c/Program Files/Amazon/AWSCLIV2/:/mnt/c/Users/HEMA S/AppData/Local/Programs/Python/Python311/:/mnt/c/Users/HEMA S/AppData/Local/Programs/Python/Python311/Scripts/:/mnt/c/Users/HEMA S/AppData/Local/Microsoft/WindowsApps:/mnt/c/Users/HEMA S/AppData/Local/gitkraken/bin:/mnt/c/Program Files/Git/bin:/mnt/c/Users/HEMA S/AppData/Local/pypoetry/:/mnt/c/Users/HEMA S/AppData/Roaming/Python/Scripts:/mnt/c/Users/HEMA S/.dotnet/tools:/mnt/c/Users/HEMA S/AppData/Local/Programs/Microsoft VS Code/bin:/mnt/c/Software/Terraform:/snap/bin',\n",
       "        'DBUS_SESSION_BUS_ADDRESS': 'unix:path=/run/user/1000/bus',\n",
       "        'HOSTTYPE': 'x86_64',\n",
       "        'PULSE_SERVER': 'unix:/mnt/wslg/PulseServer',\n",
       "        'OLDPWD': '/home/ubuntu/DTC_LLMZoomcamp',\n",
       "        '_': '/home/ubuntu/.local/bin/jupyter',\n",
       "        'JPY_SESSION_NAME': '/home/ubuntu/DTC_LLMZoomcamp/01-intro/test_groq.ipynb',\n",
       "        'JPY_PARENT_PID': '23864',\n",
       "        'PYDEVD_USE_FRAME_EVAL': 'NO',\n",
       "        'CLICOLOR': '1',\n",
       "        'FORCE_COLOR': '1',\n",
       "        'CLICOLOR_FORCE': '1',\n",
       "        'PAGER': 'cat',\n",
       "        'GIT_PAGER': 'cat',\n",
       "        'MPLBACKEND': 'module://matplotlib_inline.backend_inline'}"
      ]
     },
     "execution_count": 2,
     "metadata": {},
     "output_type": "execute_result"
    }
   ],
   "source": [
    "os.environ"
   ]
  },
  {
   "cell_type": "code",
   "execution_count": 3,
   "id": "09e7a38b-193f-4437-a708-9518adf88569",
   "metadata": {},
   "outputs": [
    {
     "name": "stdout",
     "output_type": "stream",
     "text": [
      "{'object': 'list', 'data': [{'id': 'gemma-7b-it', 'object': 'model', 'created': 1693721698, 'owned_by': 'Google', 'active': True, 'context_window': 8192}, {'id': 'llama3-70b-8192', 'object': 'model', 'created': 1693721698, 'owned_by': 'Meta', 'active': True, 'context_window': 8192}, {'id': 'llama3-8b-8192', 'object': 'model', 'created': 1693721698, 'owned_by': 'Meta', 'active': True, 'context_window': 8192}, {'id': 'mixtral-8x7b-32768', 'object': 'model', 'created': 1693721698, 'owned_by': 'Mistral AI', 'active': True, 'context_window': 32768}]}\n"
     ]
    }
   ],
   "source": [
    "api_key = os.environ.get(\"GROQ_API_KEY\")\n",
    "url = \"https://api.groq.com/openai/v1/models\"\n",
    "\n",
    "headers = {\n",
    "    \"Authorization\": f\"Bearer {api_key}\",\n",
    "    \"Content-Type\": \"application/json\"\n",
    "}\n",
    "\n",
    "response = requests.get(url, headers=headers)\n",
    "\n",
    "print(response.json())"
   ]
  },
  {
   "cell_type": "code",
   "execution_count": null,
   "id": "d21e2934-7f08-468b-b55a-87795e3fb408",
   "metadata": {},
   "outputs": [],
   "source": []
  }
 ],
 "metadata": {
  "kernelspec": {
   "display_name": "Python 3 (ipykernel)",
   "language": "python",
   "name": "python3"
  },
  "language_info": {
   "codemirror_mode": {
    "name": "ipython",
    "version": 3
   },
   "file_extension": ".py",
   "mimetype": "text/x-python",
   "name": "python",
   "nbconvert_exporter": "python",
   "pygments_lexer": "ipython3",
   "version": "3.10.12"
  }
 },
 "nbformat": 4,
 "nbformat_minor": 5
}
