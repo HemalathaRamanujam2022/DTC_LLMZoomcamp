{
 "cells": [
  {
   "cell_type": "code",
   "execution_count": 3,
   "id": "8456b5b6-185b-440b-ab98-1822aac2fe4f",
   "metadata": {},
   "outputs": [],
   "source": [
    "import json\n",
    "\n",
    "with open('documents-with-ids.json', 'rt') as f_in:\n",
    "    documents = json.load(f_in)"
   ]
  },
  {
   "cell_type": "code",
   "execution_count": 4,
   "id": "5833e987-21f5-4788-8609-d32410bc7b10",
   "metadata": {},
   "outputs": [],
   "source": [
    "from sentence_transformers import SentenceTransformer"
   ]
  },
  {
   "cell_type": "code",
   "execution_count": 5,
   "id": "3e482cd0-0202-4a89-854d-90b50c75e520",
   "metadata": {},
   "outputs": [
    {
     "data": {
      "application/vnd.jupyter.widget-view+json": {
       "model_id": "81c73869abb94ea1802a5e8404d3d144",
       "version_major": 2,
       "version_minor": 0
      },
      "text/plain": [
       "modules.json:   0%|          | 0.00/349 [00:00<?, ?B/s]"
      ]
     },
     "metadata": {},
     "output_type": "display_data"
    },
    {
     "data": {
      "application/vnd.jupyter.widget-view+json": {
       "model_id": "17bc0c071cbb45d99fc569111d530789",
       "version_major": 2,
       "version_minor": 0
      },
      "text/plain": [
       "config_sentence_transformers.json:   0%|          | 0.00/116 [00:00<?, ?B/s]"
      ]
     },
     "metadata": {},
     "output_type": "display_data"
    },
    {
     "data": {
      "application/vnd.jupyter.widget-view+json": {
       "model_id": "7e291b0f8638472d90ca2999f5588a9c",
       "version_major": 2,
       "version_minor": 0
      },
      "text/plain": [
       "README.md:   0%|          | 0.00/11.6k [00:00<?, ?B/s]"
      ]
     },
     "metadata": {},
     "output_type": "display_data"
    },
    {
     "data": {
      "application/vnd.jupyter.widget-view+json": {
       "model_id": "aa299a6778df44c69fcd1f872f1dce0f",
       "version_major": 2,
       "version_minor": 0
      },
      "text/plain": [
       "sentence_bert_config.json:   0%|          | 0.00/53.0 [00:00<?, ?B/s]"
      ]
     },
     "metadata": {},
     "output_type": "display_data"
    },
    {
     "data": {
      "application/vnd.jupyter.widget-view+json": {
       "model_id": "a23f10f5d2d5408c8899d7763019e7f5",
       "version_major": 2,
       "version_minor": 0
      },
      "text/plain": [
       "config.json:   0%|          | 0.00/612 [00:00<?, ?B/s]"
      ]
     },
     "metadata": {},
     "output_type": "display_data"
    },
    {
     "data": {
      "application/vnd.jupyter.widget-view+json": {
       "model_id": "1c312a3b380844968ddc9c03a50e1b50",
       "version_major": 2,
       "version_minor": 0
      },
      "text/plain": [
       "model.safetensors:   0%|          | 0.00/90.9M [00:00<?, ?B/s]"
      ]
     },
     "metadata": {},
     "output_type": "display_data"
    },
    {
     "data": {
      "application/vnd.jupyter.widget-view+json": {
       "model_id": "cc42d2f5943c43458ac822f2db92665a",
       "version_major": 2,
       "version_minor": 0
      },
      "text/plain": [
       "tokenizer_config.json:   0%|          | 0.00/383 [00:00<?, ?B/s]"
      ]
     },
     "metadata": {},
     "output_type": "display_data"
    },
    {
     "data": {
      "application/vnd.jupyter.widget-view+json": {
       "model_id": "74fb84f0f65b48f29195c7c839b176b9",
       "version_major": 2,
       "version_minor": 0
      },
      "text/plain": [
       "vocab.txt:   0%|          | 0.00/232k [00:00<?, ?B/s]"
      ]
     },
     "metadata": {},
     "output_type": "display_data"
    },
    {
     "data": {
      "application/vnd.jupyter.widget-view+json": {
       "model_id": "c5166af49b92437a86d7e61f11efbbb5",
       "version_major": 2,
       "version_minor": 0
      },
      "text/plain": [
       "tokenizer.json:   0%|          | 0.00/466k [00:00<?, ?B/s]"
      ]
     },
     "metadata": {},
     "output_type": "display_data"
    },
    {
     "data": {
      "application/vnd.jupyter.widget-view+json": {
       "model_id": "0d4b64468163463baaaa16283efa9d7b",
       "version_major": 2,
       "version_minor": 0
      },
      "text/plain": [
       "special_tokens_map.json:   0%|          | 0.00/112 [00:00<?, ?B/s]"
      ]
     },
     "metadata": {},
     "output_type": "display_data"
    },
    {
     "data": {
      "application/vnd.jupyter.widget-view+json": {
       "model_id": "6c2bec38fca4477dab770fb0ecb454b1",
       "version_major": 2,
       "version_minor": 0
      },
      "text/plain": [
       "1_Pooling/config.json:   0%|          | 0.00/190 [00:00<?, ?B/s]"
      ]
     },
     "metadata": {},
     "output_type": "display_data"
    }
   ],
   "source": [
    "model_name = 'multi-qa-MiniLM-L6-cos-v1'\n",
    "model = SentenceTransformer(model_name)"
   ]
  },
  {
   "cell_type": "code",
   "execution_count": 6,
   "id": "341b331f-e3aa-41b7-91a2-b42cd3a57c2e",
   "metadata": {},
   "outputs": [],
   "source": [
    "v = model.encode('I just discovered the course. Can I still join?')"
   ]
  },
  {
   "cell_type": "code",
   "execution_count": 7,
   "id": "5783a592-5d76-44ee-89a7-05615ef966bf",
   "metadata": {},
   "outputs": [
    {
     "data": {
      "text/plain": [
       "384"
      ]
     },
     "execution_count": 7,
     "metadata": {},
     "output_type": "execute_result"
    }
   ],
   "source": [
    "len(v)"
   ]
  },
  {
   "cell_type": "code",
   "execution_count": 8,
   "id": "620ed5a1-cc06-40a3-8627-891aed525cba",
   "metadata": {},
   "outputs": [
    {
     "data": {
      "text/plain": [
       "ObjectApiResponse({'acknowledged': True, 'shards_acknowledged': True, 'index': 'course-questions'})"
      ]
     },
     "execution_count": 8,
     "metadata": {},
     "output_type": "execute_result"
    }
   ],
   "source": [
    "from elasticsearch import Elasticsearch\n",
    "\n",
    "es_client = Elasticsearch('http://localhost:9200') \n",
    "\n",
    "index_settings = {\n",
    "    \"settings\": {\n",
    "        \"number_of_shards\": 1,\n",
    "        \"number_of_replicas\": 0\n",
    "    },\n",
    "    \"mappings\": {\n",
    "        \"properties\": {\n",
    "            \"text\": {\"type\": \"text\"},\n",
    "            \"section\": {\"type\": \"text\"},\n",
    "            \"question\": {\"type\": \"text\"},\n",
    "            \"course\": {\"type\": \"keyword\"},\n",
    "            \"id\": {\"type\": \"keyword\"},\n",
    "            \"question_vector\": {\n",
    "                \"type\": \"dense_vector\",\n",
    "                \"dims\": 384,\n",
    "                \"index\": True,\n",
    "                \"similarity\": \"cosine\"\n",
    "            },\n",
    "            \"text_vector\": {\n",
    "                \"type\": \"dense_vector\",\n",
    "                \"dims\": 384,\n",
    "                \"index\": True,\n",
    "                \"similarity\": \"cosine\"\n",
    "            },\n",
    "            \"question_text_vector\": {\n",
    "                \"type\": \"dense_vector\",\n",
    "                \"dims\": 384,\n",
    "                \"index\": True,\n",
    "                \"similarity\": \"cosine\"\n",
    "            },\n",
    "        }\n",
    "    }\n",
    "}\n",
    "\n",
    "index_name = \"course-questions\"\n",
    "\n",
    "es_client.indices.delete(index=index_name, ignore_unavailable=True)\n",
    "es_client.indices.create(index=index_name, body=index_settings)"
   ]
  },
  {
   "cell_type": "code",
   "execution_count": 9,
   "id": "91721a90-96d6-4ef9-8baf-a3d42c4b03e1",
   "metadata": {},
   "outputs": [],
   "source": [
    "from tqdm.auto import tqdm"
   ]
  },
  {
   "cell_type": "code",
   "execution_count": 10,
   "id": "ad8a4ba1-35d8-4650-9267-86afabef7386",
   "metadata": {},
   "outputs": [
    {
     "data": {
      "application/vnd.jupyter.widget-view+json": {
       "model_id": "2822d4691b4f495a99f583b6a5d9f7fa",
       "version_major": 2,
       "version_minor": 0
      },
      "text/plain": [
       "  0%|          | 0/948 [00:00<?, ?it/s]"
      ]
     },
     "metadata": {},
     "output_type": "display_data"
    }
   ],
   "source": [
    "# Generating encodings take longer\n",
    "for doc in tqdm(documents):\n",
    "    question = doc['question']\n",
    "    text = doc['text']\n",
    "    qt = question + ' ' + text\n",
    "\n",
    "    doc['question_vector'] = model.encode(question)\n",
    "    doc['text_vector'] = model.encode(text)\n",
    "    doc['question_text_vector'] = model.encode(qt)"
   ]
  },
  {
   "cell_type": "code",
   "execution_count": 11,
   "id": "d5b27abe-a0c2-426c-9780-3b1c0534dbe6",
   "metadata": {},
   "outputs": [
    {
     "data": {
      "application/vnd.jupyter.widget-view+json": {
       "model_id": "6a54670003e840e188e9be99ebb9fd93",
       "version_major": 2,
       "version_minor": 0
      },
      "text/plain": [
       "  0%|          | 0/948 [00:00<?, ?it/s]"
      ]
     },
     "metadata": {},
     "output_type": "display_data"
    }
   ],
   "source": [
    "# Indexing the encodings is fairly quick\n",
    "for doc in tqdm(documents):\n",
    "    es_client.index(index=index_name, document=doc)"
   ]
  },
  {
   "cell_type": "code",
   "execution_count": 12,
   "id": "82a78984-1440-4195-9513-106109013fce",
   "metadata": {},
   "outputs": [],
   "source": [
    "query = 'I just discovered the course. Can I still join it?'"
   ]
  },
  {
   "cell_type": "code",
   "execution_count": 13,
   "id": "8a5ac3e8-8d75-48f6-8d3c-0b25d227d1f2",
   "metadata": {},
   "outputs": [],
   "source": [
    "v_q = model.encode(query)"
   ]
  },
  {
   "cell_type": "code",
   "execution_count": 15,
   "id": "ccc2c02c-5c70-4cc5-a750-47940691ec26",
   "metadata": {},
   "outputs": [
    {
     "data": {
      "text/plain": [
       "384"
      ]
     },
     "execution_count": 15,
     "metadata": {},
     "output_type": "execute_result"
    }
   ],
   "source": [
    "len(v_q)"
   ]
  },
  {
   "cell_type": "code",
   "execution_count": 14,
   "id": "8597505c-b6ad-4e58-bc6d-ce2676bb70b7",
   "metadata": {},
   "outputs": [
    {
     "data": {
      "text/plain": [
       "array([ 1.76149160e-02, -4.11324911e-02, -1.86436940e-02,  3.38309328e-03,\n",
       "        3.42942290e-02,  4.63595241e-02, -7.58891329e-02, -6.14615604e-02,\n",
       "       -6.74188212e-02, -2.43898518e-02, -1.31267505e-02,  6.47082999e-02,\n",
       "        2.51723994e-02,  6.61560893e-02,  5.74242212e-02, -5.76662719e-02,\n",
       "       -1.01838574e-01, -3.80569175e-02,  8.85191653e-03, -2.22332543e-03,\n",
       "       -1.45974562e-01,  4.60105911e-02, -3.27742621e-02,  4.28988896e-02,\n",
       "        4.11894470e-02, -4.12427485e-02,  3.89968753e-02, -9.35929921e-03,\n",
       "        1.78947747e-02, -3.18373665e-02, -2.50402209e-03,  9.68545675e-03,\n",
       "        1.55836754e-02,  4.38631624e-02,  3.93180363e-03,  2.77108978e-02,\n",
       "        2.76585808e-03, -5.23474701e-02,  6.36806758e-03,  1.12894438e-02,\n",
       "       -1.66700985e-02, -4.24623266e-02,  4.98246867e-03,  3.54115441e-02,\n",
       "        4.26928848e-02,  6.29352480e-02, -1.76142268e-02, -7.38580301e-02,\n",
       "        3.98311950e-02,  8.52345526e-02,  1.04328170e-02, -1.14520550e-01,\n",
       "       -1.59268267e-02, -2.40067113e-02, -2.19631437e-02,  1.60266727e-01,\n",
       "       -1.23912124e-02,  2.13632118e-02, -1.03165604e-01,  6.88231736e-02,\n",
       "        1.05400225e-02, -1.60187762e-02, -4.71950732e-02,  9.30815004e-03,\n",
       "       -4.04344536e-02, -2.46047578e-03, -4.32146974e-02,  6.72250241e-02,\n",
       "        6.31209090e-02,  1.84811186e-02,  2.06569750e-02, -1.24418829e-02,\n",
       "        3.36882360e-02,  4.19928320e-02,  8.59921202e-02,  4.33366857e-02,\n",
       "        7.37986434e-03, -1.82140339e-03,  9.90376398e-02, -1.81587469e-02,\n",
       "       -2.57330555e-02,  8.45700651e-02, -8.07821751e-03,  1.59591045e-02,\n",
       "        2.18753759e-02, -4.00446504e-02,  2.04030499e-02,  1.58164836e-02,\n",
       "        6.35885447e-02, -2.95165312e-02,  1.48537280e-02, -4.49331626e-02,\n",
       "       -2.48859003e-02, -1.64941251e-02, -1.10272076e-02,  3.81365418e-02,\n",
       "        1.52464602e-02, -8.64763092e-03,  2.23711226e-03,  4.93728705e-02,\n",
       "       -6.91457093e-02,  4.93515395e-02, -3.75905782e-02, -3.43106873e-02,\n",
       "       -7.76832029e-02,  1.77104846e-02,  5.68748154e-02,  7.84317926e-02,\n",
       "        1.29469737e-01, -1.83993708e-02,  3.50294299e-02, -3.48360906e-03,\n",
       "        5.12880199e-02, -8.69034976e-03, -1.16803944e-02,  6.01999611e-02,\n",
       "       -5.86449318e-02,  6.00886866e-02,  4.47551869e-02, -3.93822137e-03,\n",
       "       -2.17082351e-02,  1.48929553e-02,  6.43521547e-02,  8.04063585e-03,\n",
       "       -5.46176098e-02, -1.08109571e-01, -2.61080526e-02,  1.56401508e-30,\n",
       "       -3.46488282e-02, -6.30143285e-03,  1.50328511e-02, -5.25706038e-02,\n",
       "        3.19315679e-02, -5.97957298e-02,  2.58482713e-02,  1.79113578e-02,\n",
       "       -7.00699687e-02, -7.45142670e-03, -6.44534361e-03,  1.03323478e-02,\n",
       "        2.10827142e-02, -4.54012975e-02,  4.57802303e-02, -4.06413153e-02,\n",
       "        1.45844999e-03, -3.01839542e-02,  1.59767419e-02, -3.21981572e-02,\n",
       "        6.92512989e-02, -1.32546434e-02,  5.88737009e-03, -3.33510190e-02,\n",
       "       -2.55465112e-03,  3.52397971e-02,  1.39414920e-02,  2.71806084e-02,\n",
       "        9.11199972e-02,  4.40750383e-02,  3.40240188e-02,  2.05859579e-02,\n",
       "       -1.94128036e-01, -1.05270296e-02,  2.79501751e-02,  1.13796378e-02,\n",
       "        7.14758262e-02,  1.42372409e-02,  5.30694127e-02, -4.09793444e-02,\n",
       "       -2.37918515e-02, -2.78444532e-02,  5.02104089e-02, -5.74938655e-02,\n",
       "       -1.33209042e-02,  1.67197604e-02,  7.96619803e-02, -6.84936419e-02,\n",
       "        4.09558341e-02,  1.65203924e-03, -6.81084469e-02, -7.58856013e-02,\n",
       "        3.33096273e-02, -7.64634535e-02, -1.24544278e-02, -8.45249649e-03,\n",
       "       -1.50712989e-02,  9.26374793e-02, -8.63966346e-03, -3.16604152e-02,\n",
       "        3.09321918e-02,  1.31631717e-02, -7.09917620e-02,  1.31081089e-01,\n",
       "       -1.20116375e-01,  4.36427481e-02, -6.98487312e-02, -1.02385491e-01,\n",
       "        6.63749278e-02, -5.18893115e-02, -1.04578391e-01, -8.17591976e-03,\n",
       "       -1.12951517e-01, -4.07668063e-03,  1.21986978e-02, -1.37233650e-02,\n",
       "       -3.60988788e-02,  1.71162037e-03,  1.35979593e-01, -2.92239785e-02,\n",
       "        8.13323539e-03, -1.75229404e-02, -2.27992726e-03,  3.01441047e-02,\n",
       "        4.60377056e-03,  2.25859899e-02,  6.88870400e-02, -9.70224757e-03,\n",
       "        3.09251845e-02,  4.98778559e-02, -9.31771621e-02, -1.91387197e-03,\n",
       "       -2.85508335e-02,  6.25175908e-02,  8.56966823e-02, -2.10092873e-33,\n",
       "        3.40485647e-02, -1.88850090e-02,  3.00582163e-02, -5.93010411e-02,\n",
       "        1.81743614e-02, -2.27428824e-02,  6.90350160e-02,  1.31519639e-03,\n",
       "       -9.18579381e-03,  4.34829928e-02,  4.71737050e-02,  4.87953611e-03,\n",
       "       -1.57984830e-02,  4.59825881e-02,  2.52230894e-02, -1.02191009e-02,\n",
       "       -9.14971232e-02,  6.47189841e-03, -5.27852587e-02, -4.55061672e-03,\n",
       "       -4.40339334e-02, -1.54528196e-03,  2.01863535e-02, -7.08464682e-02,\n",
       "        6.36801422e-02, -2.09155190e-03,  8.31525028e-02,  7.21338904e-03,\n",
       "        2.37920396e-02,  1.74221043e-02,  9.55976993e-02, -4.11890037e-02,\n",
       "       -9.94085446e-02, -8.59988034e-02,  9.34037194e-03,  2.49317065e-02,\n",
       "       -5.01455832e-03, -5.25104329e-02, -6.74060956e-02, -1.25827882e-02,\n",
       "        7.61722447e-03, -7.54609779e-02, -2.62166690e-02, -1.41828628e-02,\n",
       "        2.98119802e-02,  5.90687506e-02,  8.12269449e-02, -3.19936313e-02,\n",
       "       -3.93527420e-03,  3.00061461e-02, -4.03845422e-02, -6.10584021e-03,\n",
       "       -6.40576100e-03, -1.05303533e-01,  7.60405138e-02,  2.83748209e-02,\n",
       "       -1.57008264e-02, -2.30935309e-03, -5.62178576e-03, -1.85935777e-02,\n",
       "        6.88311234e-02,  3.79976667e-02, -1.80272646e-02,  5.02079399e-03,\n",
       "        8.67679864e-02,  3.99532691e-02, -5.70931705e-03,  1.33005664e-01,\n",
       "       -5.71513399e-02,  4.54723053e-02, -5.52022643e-02,  1.85069311e-02,\n",
       "       -4.27017137e-02, -6.16565272e-02,  3.57586257e-02, -5.63346297e-02,\n",
       "        9.70950071e-03,  4.01471220e-02, -3.05467639e-02, -2.57437248e-02,\n",
       "       -7.65488809e-03, -1.05975391e-02, -6.69883341e-02,  7.31111830e-03,\n",
       "        1.06914960e-01,  8.80488306e-02,  6.23186789e-02, -7.40782684e-03,\n",
       "        1.40179275e-02,  2.81448271e-02,  4.62829173e-02, -3.12438086e-02,\n",
       "        7.09173530e-02, -5.67000033e-03, -2.17621345e-02, -6.89413625e-33,\n",
       "       -4.92959768e-02, -1.63548328e-02,  3.40877916e-03, -1.08784856e-02,\n",
       "       -1.61430333e-03,  2.17501894e-02, -7.77432546e-02,  2.35478505e-02,\n",
       "       -1.24082742e-02,  1.52956486e-01, -8.22076872e-02,  2.39412300e-02,\n",
       "       -2.71554873e-03,  4.19553220e-02, -1.88335385e-02, -7.71577354e-04,\n",
       "        5.97384982e-02,  1.76914390e-02, -2.87790573e-03,  1.97061375e-02,\n",
       "        5.84437512e-03,  1.31355701e-02, -8.27062875e-04, -2.45264062e-04,\n",
       "       -8.57732445e-02,  1.82976462e-02,  3.28735262e-02, -1.40373418e-02,\n",
       "       -3.52644324e-02, -1.39916576e-02, -1.70346517e-02,  1.59124415e-02,\n",
       "       -2.12118924e-02,  2.28096601e-02,  2.56971195e-02, -1.20025635e-01,\n",
       "       -1.44116757e-02,  3.57670747e-02,  3.98525819e-02,  5.24134077e-02,\n",
       "       -1.01145774e-01,  3.65558006e-02,  1.00102387e-01,  1.52618706e-01,\n",
       "        5.95283099e-02,  4.79450226e-02, -1.04325684e-02, -2.05678549e-02,\n",
       "        1.39630428e-02,  1.07720848e-02, -4.33293879e-02,  4.50931340e-02,\n",
       "       -8.28925520e-02, -9.26283002e-02,  2.07381286e-02,  4.03870083e-02,\n",
       "        3.63956355e-02, -2.41007190e-02, -1.55761018e-01, -2.99186329e-03,\n",
       "       -2.11126506e-02, -1.19803473e-01, -3.97913381e-02, -2.58465670e-02],\n",
       "      dtype=float32)"
      ]
     },
     "execution_count": 14,
     "metadata": {},
     "output_type": "execute_result"
    }
   ],
   "source": [
    "v_q"
   ]
  },
  {
   "cell_type": "code",
   "execution_count": 16,
   "id": "ecba8e3b-7f61-402c-8106-62bde9eb1746",
   "metadata": {},
   "outputs": [],
   "source": [
    "def elastic_search_knn(field, vector, course):\n",
    "    knn = {\n",
    "        \"field\": field,\n",
    "        \"query_vector\": vector,\n",
    "        \"k\": 5,\n",
    "        \"num_candidates\": 10000,\n",
    "        \"filter\": {\n",
    "            \"term\": {\n",
    "                \"course\": course\n",
    "            }\n",
    "        }\n",
    "    }\n",
    "\n",
    "    search_query = {\n",
    "        \"knn\": knn,\n",
    "        \"_source\": [\"text\", \"section\", \"question\", \"course\", \"id\"]\n",
    "    }\n",
    "\n",
    "    es_results = es_client.search(\n",
    "        index=index_name,\n",
    "        body=search_query\n",
    "    )\n",
    "    \n",
    "    result_docs = []\n",
    "    \n",
    "    for hit in es_results['hits']['hits']:\n",
    "        result_docs.append(hit['_source'])\n",
    "\n",
    "    return result_docs"
   ]
  },
  {
   "cell_type": "code",
   "execution_count": 17,
   "id": "cc09b90a-a88b-4678-a613-eb68e16136d5",
   "metadata": {},
   "outputs": [],
   "source": [
    "def question_vector_knn(q):\n",
    "    question = q['question']\n",
    "    course = q['course']\n",
    "\n",
    "    v_q = model.encode(question)\n",
    "\n",
    "    return elastic_search_knn('question_vector', v_q, course)"
   ]
  },
  {
   "cell_type": "code",
   "execution_count": 18,
   "id": "163d5e97-e1b7-45e1-ba1e-61fca4fc37a9",
   "metadata": {},
   "outputs": [],
   "source": [
    "import pandas as pd"
   ]
  },
  {
   "cell_type": "code",
   "execution_count": 19,
   "id": "e3da963b-cd17-471b-9cff-7f8c4276b915",
   "metadata": {},
   "outputs": [],
   "source": [
    "df_ground_truth = pd.read_csv('ground-truth-data.csv')"
   ]
  },
  {
   "cell_type": "code",
   "execution_count": 20,
   "id": "d53d3beb-d699-46c8-bc85-953afc4ef48d",
   "metadata": {},
   "outputs": [],
   "source": [
    "ground_truth = df_ground_truth.to_dict(orient='records')"
   ]
  },
  {
   "cell_type": "code",
   "execution_count": 21,
   "id": "0deced29-bae5-4b6c-b2b8-53ce46b4f8ab",
   "metadata": {},
   "outputs": [
    {
     "data": {
      "text/plain": [
       "{'question': 'When does the course begin?',\n",
       " 'course': 'data-engineering-zoomcamp',\n",
       " 'document': 'c02e79ef'}"
      ]
     },
     "execution_count": 21,
     "metadata": {},
     "output_type": "execute_result"
    }
   ],
   "source": [
    "ground_truth[0]"
   ]
  },
  {
   "cell_type": "code",
   "execution_count": 22,
   "id": "8959c9ff-5bbe-4729-8fa3-cdc51ed10f5f",
   "metadata": {},
   "outputs": [],
   "source": [
    "def hit_rate(relevance_total):\n",
    "    cnt = 0\n",
    "\n",
    "    for line in relevance_total:\n",
    "        if True in line:\n",
    "            cnt = cnt + 1\n",
    "\n",
    "    return cnt / len(relevance_total)"
   ]
  },
  {
   "cell_type": "code",
   "execution_count": 23,
   "id": "842255b5-18f2-4102-9689-a5835e0a621c",
   "metadata": {},
   "outputs": [],
   "source": [
    "def mrr(relevance_total):\n",
    "    total_score = 0.0\n",
    "\n",
    "    for line in relevance_total:\n",
    "        for rank in range(len(line)):\n",
    "            if line[rank] == True:\n",
    "                total_score = total_score + 1 / (rank + 1)\n",
    "\n",
    "    return total_score / len(relevance_total)"
   ]
  },
  {
   "cell_type": "code",
   "execution_count": 24,
   "id": "f11baaff-43d9-4b8c-a896-561b86e85743",
   "metadata": {},
   "outputs": [],
   "source": [
    "def evaluate(ground_truth, search_function):\n",
    "    relevance_total = []\n",
    "\n",
    "    for q in tqdm(ground_truth):\n",
    "        doc_id = q['document']\n",
    "        results = search_function(q)\n",
    "        relevance = [d['id'] == doc_id for d in results]\n",
    "        relevance_total.append(relevance)\n",
    "\n",
    "    return {\n",
    "        'hit_rate': hit_rate(relevance_total),\n",
    "        'mrr': mrr(relevance_total),\n",
    "    }"
   ]
  },
  {
   "cell_type": "code",
   "execution_count": 25,
   "id": "f1d3530e-1406-49dd-bba9-914f6a39d7f2",
   "metadata": {},
   "outputs": [
    {
     "data": {
      "application/vnd.jupyter.widget-view+json": {
       "model_id": "6ecb9771537149fe835e827c0057e159",
       "version_major": 2,
       "version_minor": 0
      },
      "text/plain": [
       "  0%|          | 0/4627 [00:00<?, ?it/s]"
      ]
     },
     "metadata": {},
     "output_type": "display_data"
    },
    {
     "data": {
      "text/plain": [
       "{'hit_rate': 0.773071104387292, 'mrr': 0.6666810748505158}"
      ]
     },
     "execution_count": 25,
     "metadata": {},
     "output_type": "execute_result"
    }
   ],
   "source": [
    "evaluate(ground_truth, question_vector_knn)"
   ]
  },
  {
   "cell_type": "markdown",
   "id": "3aa5eb82-27df-4577-a2e2-23971f2fa964",
   "metadata": {},
   "source": [
    "ES text only: 0.7395720769397017, 0.6032418413658963"
   ]
  },
  {
   "cell_type": "code",
   "execution_count": 27,
   "id": "e87f0987-02e9-4e2c-a091-14a75c9ce58d",
   "metadata": {},
   "outputs": [],
   "source": [
    "def text_vector_knn(q):\n",
    "    question = q['question']\n",
    "    course = q['course']\n",
    "\n",
    "    v_q = model.encode(question)\n",
    "\n",
    "    return elastic_search_knn('text_vector', v_q, course)"
   ]
  },
  {
   "cell_type": "code",
   "execution_count": 28,
   "id": "d676bd5e-4abc-4799-bb37-c1a86b3b9872",
   "metadata": {},
   "outputs": [
    {
     "data": {
      "application/vnd.jupyter.widget-view+json": {
       "model_id": "cb73b69d0e364b2d93e5c326621cdde0",
       "version_major": 2,
       "version_minor": 0
      },
      "text/plain": [
       "  0%|          | 0/4627 [00:00<?, ?it/s]"
      ]
     },
     "metadata": {},
     "output_type": "display_data"
    },
    {
     "data": {
      "text/plain": [
       "{'hit_rate': 0.8286146531229739, 'mrr': 0.7062315395144454}"
      ]
     },
     "execution_count": 28,
     "metadata": {},
     "output_type": "execute_result"
    }
   ],
   "source": [
    "evaluate(ground_truth, text_vector_knn)"
   ]
  },
  {
   "cell_type": "code",
   "execution_count": 29,
   "id": "13a47c3e-036a-4212-912c-a61de0daf6cd",
   "metadata": {},
   "outputs": [
    {
     "data": {
      "application/vnd.jupyter.widget-view+json": {
       "model_id": "45a3eb4cf4224b7497ac592769ab309f",
       "version_major": 2,
       "version_minor": 0
      },
      "text/plain": [
       "  0%|          | 0/4627 [00:00<?, ?it/s]"
      ]
     },
     "metadata": {},
     "output_type": "display_data"
    },
    {
     "data": {
      "text/plain": [
       "{'hit_rate': 0.9172249837907932, 'mrr': 0.824306606152295}"
      ]
     },
     "execution_count": 29,
     "metadata": {},
     "output_type": "execute_result"
    }
   ],
   "source": [
    "def question_text_vector_knn(q):\n",
    "    question = q['question']\n",
    "    course = q['course']\n",
    "\n",
    "    v_q = model.encode(question)\n",
    "\n",
    "    return elastic_search_knn('question_text_vector', v_q, course)\n",
    "\n",
    "evaluate(ground_truth, question_text_vector_knn)"
   ]
  },
  {
   "cell_type": "code",
   "execution_count": 30,
   "id": "20f4d5f5-617d-4e89-8cc1-4acaed270be4",
   "metadata": {},
   "outputs": [],
   "source": [
    "def elastic_search_knn_combined(vector, course):\n",
    "    search_query = {\n",
    "        \"size\": 5,\n",
    "        \"query\": {\n",
    "            \"bool\": {\n",
    "                \"must\": [\n",
    "                    {\n",
    "                        \"script_score\": {\n",
    "                            \"query\": {\n",
    "                                \"term\": {\n",
    "                                    \"course\": course\n",
    "                                }\n",
    "                            },\n",
    "                            \"script\": {\n",
    "                                \"source\": \"\"\"\n",
    "                                    cosineSimilarity(params.query_vector, 'question_vector') + \n",
    "                                    cosineSimilarity(params.query_vector, 'text_vector') + \n",
    "                                    cosineSimilarity(params.query_vector, 'question_text_vector') + \n",
    "                                    1\n",
    "                                \"\"\",\n",
    "                                \"params\": {\n",
    "                                    \"query_vector\": vector\n",
    "                                }\n",
    "                            }\n",
    "                        }\n",
    "                    }\n",
    "                ],\n",
    "                \"filter\": {\n",
    "                    \"term\": {\n",
    "                        \"course\": course\n",
    "                    }\n",
    "                }\n",
    "            }\n",
    "        },\n",
    "        \"_source\": [\"text\", \"section\", \"question\", \"course\", \"id\"]\n",
    "    }\n",
    "\n",
    "    es_results = es_client.search(\n",
    "        index=index_name,\n",
    "        body=search_query\n",
    "    )\n",
    "    \n",
    "    result_docs = []\n",
    "    \n",
    "    for hit in es_results['hits']['hits']:\n",
    "        result_docs.append(hit['_source'])\n",
    "\n",
    "    return result_docs"
   ]
  },
  {
   "cell_type": "code",
   "execution_count": null,
   "id": "7ba72a59-7d0e-4d61-90c4-008e6341f7dd",
   "metadata": {},
   "outputs": [
    {
     "data": {
      "application/vnd.jupyter.widget-view+json": {
       "model_id": "b333a0ed81824fe385f69d92ed8b0d7f",
       "version_major": 2,
       "version_minor": 0
      },
      "text/plain": [
       "  0%|          | 0/4627 [00:00<?, ?it/s]"
      ]
     },
     "metadata": {},
     "output_type": "display_data"
    }
   ],
   "source": [
    "def vector_combined_knn(q):\n",
    "    question = q['question']\n",
    "    course = q['course']\n",
    "\n",
    "    v_q = model.encode(question)\n",
    "\n",
    "    return elastic_search_knn_combined(v_q, course)\n",
    "\n",
    "evaluate(ground_truth, vector_combined_knn)"
   ]
  },
  {
   "cell_type": "code",
   "execution_count": null,
   "id": "806798ff-431e-46a0-8ecd-edd9b688f8e3",
   "metadata": {},
   "outputs": [],
   "source": []
  }
 ],
 "metadata": {
  "kernelspec": {
   "display_name": "Python 3 (ipykernel)",
   "language": "python",
   "name": "python3"
  },
  "language_info": {
   "codemirror_mode": {
    "name": "ipython",
    "version": 3
   },
   "file_extension": ".py",
   "mimetype": "text/x-python",
   "name": "python",
   "nbconvert_exporter": "python",
   "pygments_lexer": "ipython3",
   "version": "3.10.12"
  }
 },
 "nbformat": 4,
 "nbformat_minor": 5
}
